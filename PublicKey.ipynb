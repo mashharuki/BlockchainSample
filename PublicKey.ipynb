{
 "cells": [
  {
   "cell_type": "code",
   "execution_count": 8,
   "metadata": {},
   "outputs": [
    {
     "name": "stdout",
     "output_type": "stream",
     "text": [
      "b'4ccac328f82d640b0b23bb6fa368bef8fe1f041ff19b0173f757c752c747d6e53245419f5a90913c185d3fcba54a82c9a9d3fdf6d848653e14a9784888b4eb28'\n",
      "b'2f7830324ccac328f82d640b0b23bb6fa368bef8fe1f041ff19b0173f757c752c747d6e5'\n"
     ]
    }
   ],
   "source": [
    "import os\n",
    "import ecdsa\n",
    "import binascii\n",
    "\n",
    "private_key = os.urandom(32)\n",
    "public_key = ecdsa.SigningKey.from_string(private_key,curve=ecdsa.SECP256k1).verifying_key.to_string()\n",
    "\n",
    "# y座標を取り出す\n",
    "public_key_y = int.from_bytes(public_key[32:],\"big\")\n",
    "\n",
    "# 圧縮公開鍵を生成\n",
    "if public_key_y % 2 == 0 :\n",
    "    public_key_compressed = b\"/x02\" + public_key[:32]\n",
    "else :\n",
    "    public_key_compressed = b\"/x03\" + public_key[:32]\n",
    "\n",
    "print(binascii.hexlify(public_key))\n",
    "print(binascii.hexlify(public_key_compressed))"
   ]
  },
  {
   "cell_type": "code",
   "execution_count": null,
   "metadata": {},
   "outputs": [],
   "source": []
  },
  {
   "cell_type": "code",
   "execution_count": null,
   "metadata": {},
   "outputs": [],
   "source": []
  },
  {
   "cell_type": "code",
   "execution_count": null,
   "metadata": {},
   "outputs": [],
   "source": []
  }
 ],
 "metadata": {
  "kernelspec": {
   "display_name": "Python 3",
   "language": "python",
   "name": "python3"
  },
  "language_info": {
   "codemirror_mode": {
    "name": "ipython",
    "version": 3
   },
   "file_extension": ".py",
   "mimetype": "text/x-python",
   "name": "python",
   "nbconvert_exporter": "python",
   "pygments_lexer": "ipython3",
   "version": "3.8.5"
  }
 },
 "nbformat": 4,
 "nbformat_minor": 4
}
