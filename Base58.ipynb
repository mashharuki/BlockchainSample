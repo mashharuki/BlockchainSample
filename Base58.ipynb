{
 "cells": [
  {
   "cell_type": "code",
   "execution_count": 2,
   "metadata": {},
   "outputs": [
    {
     "name": "stdout",
     "output_type": "stream",
     "text": [
      "b'\\x0bu}\\xae\\x14j\\x86o\\x0bw3\\xa4w\\xd6\\x93\\x14\\xecc #\\xd9\\x0b:\\\\\\x0c i\\xc9\\\\\\n\\xf7H'\n",
      "b'\\x15%}A\\xb5\\x8b\\xb5\\xe6\\xda*\\x17\\xe4b\\xe9\\x97\\xc4)\\xce\\x8fV`\\x16F\\xc2uh\\x8d\\x84\\x9e\\xa1\\xad\\x80\\x15&\\xfa5\\xda\\xb7\\xd3\\x065\\xe0\\x83\\xfd\\xe6\\xd4\\xb5hKG\\xcc\\x93G\\x94\\xbc\\xa1DO\\xcf[\\xfd\\xbc\\x18\\xbc'\n",
      "VKRi9oCF6h43rdR6n8m3yasuwpNDHgguWNWaC3\n"
     ]
    }
   ],
   "source": [
    "import os\n",
    "import ecdsa\n",
    "import hashlib\n",
    "import base58\n",
    "\n",
    "# 秘密鍵を生成\n",
    "private_key = os.urandom(32)\n",
    "print(private_key)\n",
    "# 楕円曲線暗号を利用して公開鍵を生成\n",
    "public_key = ecdsa.SigningKey.from_string(private_key,curve=ecdsa.SECP256k1).verifying_key.to_string()\n",
    "print(public_key)\n",
    "# バージョンバイトを先頭につける。\n",
    "prefix_and_pubkey = b\"/x04\" + public_key\n",
    "\n",
    "intermediate = hashlib.sha256(prefix_and_pubkey).digest()\n",
    "\n",
    "ripemd160 = hashlib.new('ripemd160')\n",
    "\n",
    "ripemd160.update(intermediate)\n",
    "\n",
    "hash160 = ripemd160.digest()\n",
    "# バージョンバイト + 公開鍵のハッシュ値\n",
    "prefix_and_hash160 = b\"/x00\" + hash160\n",
    "# hashlib.256が入れ子になっていることを確認！\n",
    "double_hash = hashlib.sha256(hashlib.sha256(prefix_and_hash160).digest()).digest()\n",
    "# 先頭の4バイトをチェックサムとする。\n",
    "checksum = double_hash[:4]\n",
    "\n",
    "pre_address = prefix_and_hash160 + checksum\n",
    "# base58でエンコードする。\n",
    "address = base58.b58encode(pre_address)\n",
    "# 最終的な結果を出力する\n",
    "# アドレス\n",
    "print(address.decode())"
   ]
  },
  {
   "cell_type": "code",
   "execution_count": null,
   "metadata": {},
   "outputs": [],
   "source": []
  },
  {
   "cell_type": "code",
   "execution_count": null,
   "metadata": {},
   "outputs": [],
   "source": []
  }
 ],
 "metadata": {
  "kernelspec": {
   "display_name": "Python 3",
   "language": "python",
   "name": "python3"
  },
  "language_info": {
   "codemirror_mode": {
    "name": "ipython",
    "version": 3
   },
   "file_extension": ".py",
   "mimetype": "text/x-python",
   "name": "python",
   "nbconvert_exporter": "python",
   "pygments_lexer": "ipython3",
   "version": "3.8.5"
  }
 },
 "nbformat": 4,
 "nbformat_minor": 4
}
