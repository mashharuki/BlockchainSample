{
 "cells": [
  {
   "cell_type": "code",
   "execution_count": 10,
   "metadata": {},
   "outputs": [
    {
     "name": "stdout",
     "output_type": "stream",
     "text": [
      "45ce9219fbff637dbe398f21c765081c511d54b9758755875e764f488c21cfc2\n"
     ]
    }
   ],
   "source": [
    "import hashlib\n",
    "\n",
    "# ハッシュ関数\n",
    "def sha256(data):\n",
    "    return hashlib.sha256(data.encode()).hexdigest()\n",
    "\n",
    "# マークルツリークラス\n",
    "class MerkleTree():\n",
    "    def __init__(self, tx_list):\n",
    "        #　トランザクションデータ\n",
    "        self.tx_list = tx_list\n",
    "        \n",
    "    def clac_merkleroot(self):\n",
    "        txs = self.tx_list\n",
    "        \n",
    "        if len(txs) == 1:\n",
    "            return txs[0]\n",
    "        while len(txs) > 1:\n",
    "            if len(txs) % 2 == 1 :\n",
    "                txs.append(txs[-1])\n",
    "            hashes = []\n",
    "            for i in range(0, len(txs), 2):\n",
    "                hashes.append(sha256(\"\".join(txs[i:i + 2])))\n",
    "            txs = hashes\n",
    "        return txs[0]\n",
    "\n",
    "if __name__ == \"__main__\" :\n",
    "    # トランザクションデータ\n",
    "    txs = [\n",
    "        \"e7c6a5c20318e99e7a2fe7e9c534fae52d402ef6544afd85a0a1a22a8d09783a\",\n",
    "        \"3fe7ac92b9d20c9b5fb1ba21008b41eb1208af50a7021694f7f73fd37e914b67\",\n",
    "        \"b3a37d774cd5f15be1ee472e8c877bcc54ab8ea00f25d34ef11e76a17ecbb67c\",\n",
    "        \"dcc75a59bcee8a4617b8f0fc66d1444fea3574addf9ed1e0631ae85ff6c65939\",\n",
    "        \"59639ffc15ef30860d11da02733c2f910c43e600640996ee17f0b12fd0cb51e9\",\n",
    "        \"0e942bb178dbf7ae40d36d238d559427429641689a379fc43929f15275a75fa6\",\n",
    "        \"5ea33197f7b956644d75261e3c03eefeeea43823b3de771e92371f3d630d4c56\",\n",
    "        \"55696d0a3686df2eb51aae49ca0a0ae42043ea5591aa0b6d755020bdb64887f6\",\n",
    "        \"2255724fd367389c2aabfff9d5eb51d08eda0d7fed01f3f9d0527693572c08f6\",\n",
    "        \"c8329c18492c5f6ee61eb56dab52576b1de48bbb1d7f6aa7f0387f9b3b63722e\",\n",
    "        \"34b7f053f77406456676fdd3d1e4ac858b69b54daf3949806c2c92ca70d3b88d\"\n",
    "    ]\n",
    "\n",
    "    #マークルツリーを作成するメソッドを呼び出す。\n",
    "    mt = MerkleTree(txs)\n",
    "\n",
    "    print(mt.clac_merkleroot())"
   ]
  },
  {
   "cell_type": "code",
   "execution_count": null,
   "metadata": {},
   "outputs": [],
   "source": []
  },
  {
   "cell_type": "code",
   "execution_count": null,
   "metadata": {},
   "outputs": [],
   "source": []
  },
  {
   "cell_type": "code",
   "execution_count": null,
   "metadata": {},
   "outputs": [],
   "source": []
  }
 ],
 "metadata": {
  "kernelspec": {
   "display_name": "Python 3",
   "language": "python",
   "name": "python3"
  },
  "language_info": {
   "codemirror_mode": {
    "name": "ipython",
    "version": 3
   },
   "file_extension": ".py",
   "mimetype": "text/x-python",
   "name": "python",
   "nbconvert_exporter": "python",
   "pygments_lexer": "ipython3",
   "version": "3.8.5"
  }
 },
 "nbformat": 4,
 "nbformat_minor": 4
}
