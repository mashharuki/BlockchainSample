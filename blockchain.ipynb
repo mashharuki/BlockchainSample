{
 "cells": [
  {
   "cell_type": "code",
   "execution_count": 3,
   "metadata": {},
   "outputs": [
    {
     "name": "stdout",
     "output_type": "stream",
     "text": [
      "6e421d89fa7cb8f44a8448715d01a9a1b33748c45462d39a929c2489ae325cd2\n"
     ]
    }
   ],
   "source": [
    "import hashlib\n",
    "hash_hello = hashlib.sha256(b\"bonjor\").hexdigest() \n",
    "print(hash_hello)"
   ]
  },
  {
   "cell_type": "code",
   "execution_count": 4,
   "metadata": {},
   "outputs": [
    {
     "name": "stdout",
     "output_type": "stream",
     "text": [
      "d3751d33f9cd5049c4af2b462735457e4d3baf130bcbb87f389e349fbaeb20b9\n"
     ]
    }
   ],
   "source": [
    "import hashlib\n",
    "hash_hello = hashlib.sha256(b\"hallo\").hexdigest() \n",
    "print(hash_hello)"
   ]
  },
  {
   "cell_type": "code",
   "execution_count": 8,
   "metadata": {},
   "outputs": [
    {
     "name": "stdout",
     "output_type": "stream",
     "text": [
      "b'\\xdb\\x90\\xc50\\xdc\\x82\\x9fO0\\x02\\xfc\\xf2\\xe4\\xb8\\xebG\\xafI\\x0f\\xc6\\xce\\xbc\\x187\\xb4\\xf2\\x87\\x974\\xed\\xb5\\xa1'\n",
      "b'db90c530dc829f4f3002fcf2e4b8eb47af490fc6cebc1837b4f2879734edb5a1'\n"
     ]
    }
   ],
   "source": [
    "import os\n",
    "import binascii\n",
    "private_key = os.urandom(32)\n",
    "print(private_key) \n",
    "print(binascii.hexlify(private_key))"
   ]
  },
  {
   "cell_type": "code",
   "execution_count": 10,
   "metadata": {},
   "outputs": [
    {
     "name": "stdout",
     "output_type": "stream",
     "text": [
      "b'77f2772d5542be0f03a9f40fccf2e65e945c24c3b89b2a2d47cb635d8f33f92a'\n",
      "b'eff267ffde61eb280d90751878cd20e517cb7767af622965f97bd0e2050bdfd3e6caf09a4da5aafcdec30e56bc3ef06943bc7f945c0f476c117ebf0c7e5856f0'\n"
     ]
    }
   ],
   "source": [
    "import os\n",
    "import ecdsa\n",
    "import binascii\n",
    "private_key = os.urandom(32)\n",
    "public_key = ecdsa.SigningKey.from_string(private_key, curve=ecdsa.SECP256k1).verifying_key.to_string()\n",
    "print(binascii.hexlify(private_key)) \n",
    "print(binascii.hexlify(public_key))"
   ]
  },
  {
   "cell_type": "code",
   "execution_count": null,
   "metadata": {},
   "outputs": [],
   "source": []
  }
 ],
 "metadata": {
  "kernelspec": {
   "display_name": "Python 3",
   "language": "python",
   "name": "python3"
  },
  "language_info": {
   "codemirror_mode": {
    "name": "ipython",
    "version": 3
   },
   "file_extension": ".py",
   "mimetype": "text/x-python",
   "name": "python",
   "nbconvert_exporter": "python",
   "pygments_lexer": "ipython3",
   "version": "3.8.5"
  }
 },
 "nbformat": 4,
 "nbformat_minor": 4
}
