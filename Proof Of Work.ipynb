{
 "cells": [
  {
   "cell_type": "code",
   "execution_count": 1,
   "metadata": {},
   "outputs": [
    {
     "name": "stdout",
     "output_type": "stream",
     "text": [
      "Block Hash: 000026f44ec01f0ddfa9a01726d69433ce6d1a1c91906157e6e5705b155fe0dc/nPrevious Hash: 0000000000000000000000000000000000000000000000000000000000000000/nindex: 1/nData: Block1/nNonce: 540596521/n---------------\n",
      "Block Hash: 00001b16dafe4ec566fdffde587beee301c29217438ce7eebf73c4b0c147d215/nPrevious Hash: 000026f44ec01f0ddfa9a01726d69433ce6d1a1c91906157e6e5705b155fe0dc/nindex: 2/nData: Block2/nNonce: 1834816753/n---------------\n",
      "Block Hash: 00003ecf29e03acf9bba997a68823d967f9c919c9d6aae37cdd2e672011ccb8d/nPrevious Hash: 00001b16dafe4ec566fdffde587beee301c29217438ce7eebf73c4b0c147d215/nindex: 3/nData: Block3/nNonce: 130598061201/n---------------\n",
      "Block Hash: 00002e87200fa1e6557c278eef7f3fc4042e5dc483cc74d94bcddc5d277ec835/nPrevious Hash: 00003ecf29e03acf9bba997a68823d967f9c919c9d6aae37cdd2e672011ccb8d/nindex: 4/nData: Block4/nNonce: 11133975700/n---------------\n",
      "Block Hash: 0000371143f695b31b385c4f1e9b0f1447765063166eec4f3fe3642628d98e8d/nPrevious Hash: 00002e87200fa1e6557c278eef7f3fc4042e5dc483cc74d94bcddc5d277ec835/nindex: 5/nData: Block5/nNonce: 63354650703/n---------------\n",
      "Block Hash: 00003694c1ea437c1ad8adc77ade313987b62ec32b5b12d74a10620f69a6d400/nPrevious Hash: 0000371143f695b31b385c4f1e9b0f1447765063166eec4f3fe3642628d98e8d/nindex: 6/nData: Block6/nNonce: 26056906470/n---------------\n",
      "Block Hash: 00001ce3e7a2dc858979b571a12e20f1e1f2b4cd2bd018b2868a26d770d9e652/nPrevious Hash: 00003694c1ea437c1ad8adc77ade313987b62ec32b5b12d74a10620f69a6d400/nindex: 7/nData: Block7/nNonce: 71640020026/n---------------\n",
      "Block Hash: 000010c86b05ef525cd2aebab7e463850db287971d174791a3b4756eed839972/nPrevious Hash: 00001ce3e7a2dc858979b571a12e20f1e1f2b4cd2bd018b2868a26d770d9e652/nindex: 8/nData: Block8/nNonce: 602999628/n---------------\n",
      "Block Hash: 0000663823106ea327deab8fe9555b23f28879f2a7b1bef283fc53f210a59f8c/nPrevious Hash: 000010c86b05ef525cd2aebab7e463850db287971d174791a3b4756eed839972/nindex: 9/nData: Block9/nNonce: 108567480/n---------------\n",
      "Block Hash: 00003349d832bb8e1b828feb61de2186cb324609fe2b1ac52f7d8462dfefaad8/nPrevious Hash: 0000663823106ea327deab8fe9555b23f28879f2a7b1bef283fc53f210a59f8c/nindex: 10/nData: Block10/nNonce: 50826443865/n---------------\n",
      "Block Hash: 0000261fa197923d16fa558b34afe04df5eeba8d205cabca7db62cad053cb488/nPrevious Hash: 00003349d832bb8e1b828feb61de2186cb324609fe2b1ac52f7d8462dfefaad8/nindex: 11/nData: Block11/nNonce: 22720831035/n---------------\n",
      "Block Hash: 00000f951164b78ca7c4efa69a010ce42ec3aa8b36ebee21147d1b25a5dacac7/nPrevious Hash: 0000261fa197923d16fa558b34afe04df5eeba8d205cabca7db62cad053cb488/nindex: 12/nData: Block12/nNonce: 28226761200/n---------------\n",
      "Block Hash: 00000b977f65db34c8955b0ff9b8e2581d4055c6580b851a461692f0cd7d73d5/nPrevious Hash: 00000f951164b78ca7c4efa69a010ce42ec3aa8b36ebee21147d1b25a5dacac7/nindex: 13/nData: Block13/nNonce: 591834810/n---------------\n",
      "Block Hash: 000016213022e4fefe608179ecc2ebb947d2113128ff135e75364f3538aa0e66/nPrevious Hash: 00000b977f65db34c8955b0ff9b8e2581d4055c6580b851a461692f0cd7d73d5/nindex: 14/nData: Block14/nNonce: 447857556/n---------------\n",
      "Block Hash: 0000712733ae1e72bfefc49801d2302c012a0944c58c2eb004bf9ae20dd4a2cf/nPrevious Hash: 000016213022e4fefe608179ecc2ebb947d2113128ff135e75364f3538aa0e66/nindex: 15/nData: Block15/nNonce: 1692485290/n---------------\n",
      "Block Hash: 000009a820dbf7e2453cd651e8ed3c96d04ad40710dd177b4bf0fd62c7d97d0f/nPrevious Hash: 0000712733ae1e72bfefc49801d2302c012a0944c58c2eb004bf9ae20dd4a2cf/nindex: 16/nData: Block16/nNonce: 8948744871/n---------------\n",
      "Block Hash: 00002a78b11f152951045a1fdd7e883cbb06f9fb97a156da8ebaec872131e67a/nPrevious Hash: 000009a820dbf7e2453cd651e8ed3c96d04ad40710dd177b4bf0fd62c7d97d0f/nindex: 17/nData: Block17/nNonce: 1228716378/n---------------\n",
      "Block Hash: 00002534b2f12f61e29e0a7172af5bfeba02b1a1990f297771d5ff10e9a1533e/nPrevious Hash: 00002a78b11f152951045a1fdd7e883cbb06f9fb97a156da8ebaec872131e67a/nindex: 18/nData: Block18/nNonce: 54815757171/n---------------\n",
      "Block Hash: 000039e22c7a1e3c8518ac7533d8e0cc1bea35f347abd9f84455e2ba5233800a/nPrevious Hash: 00002534b2f12f61e29e0a7172af5bfeba02b1a1990f297771d5ff10e9a1533e/nindex: 19/nData: Block19/nNonce: 70484167153/n---------------\n",
      "Block Hash: 00004a0d7742dd2a01863edf6db272e03938b1de71a0f49469f88b5343020736/nPrevious Hash: 000039e22c7a1e3c8518ac7533d8e0cc1bea35f347abd9f84455e2ba5233800a/nindex: 20/nData: Block20/nNonce: 4633138191/n---------------\n",
      "Block Hash: 00003e33264004f7db89c35c4d6fb2f1da9ea01cc381d13e5b2b7f8d7c3e733b/nPrevious Hash: 00004a0d7742dd2a01863edf6db272e03938b1de71a0f49469f88b5343020736/nindex: 21/nData: Block21/nNonce: 13393525278/n---------------\n",
      "Block Hash: 00000cefad28d3f81ba9fe89aa5b0ff846efdfe9f85c3ed7855cd2e500d13b55/nPrevious Hash: 00003e33264004f7db89c35c4d6fb2f1da9ea01cc381d13e5b2b7f8d7c3e733b/nindex: 22/nData: Block22/nNonce: 5336116471/n---------------\n",
      "Block Hash: 000023dfc590dae8d85998287190d0e7e55485212d9f1e5ab0d47d450ad39e4d/nPrevious Hash: 00000cefad28d3f81ba9fe89aa5b0ff846efdfe9f85c3ed7855cd2e500d13b55/nindex: 23/nData: Block23/nNonce: 39346436503/n---------------\n",
      "Block Hash: 000044e55a9c6b92949f5edb8967829e6c3bb18aa383e937fc3a1ca27485487c/nPrevious Hash: 000023dfc590dae8d85998287190d0e7e55485212d9f1e5ab0d47d450ad39e4d/nindex: 24/nData: Block24/nNonce: 34643042253/n---------------\n",
      "Block Hash: 00005ddaf0fae9934caea863de6744bd9e49dc0c0b38bdf9630f9f55e75baa39/nPrevious Hash: 000044e55a9c6b92949f5edb8967829e6c3bb18aa383e937fc3a1ca27485487c/nindex: 25/nData: Block25/nNonce: 354778203/n---------------\n",
      "Block Hash: 000024713ad7c3ffd7355052d8ee8b5638201ed4660c3368048c70490ec24a86/nPrevious Hash: 00005ddaf0fae9934caea863de6744bd9e49dc0c0b38bdf9630f9f55e75baa39/nindex: 26/nData: Block26/nNonce: 2441502381/n---------------\n",
      "Block Hash: 0000652fbc0e259461de2dc3f519424216e210f685012d6b6a2608aa9a9a1539/nPrevious Hash: 000024713ad7c3ffd7355052d8ee8b5638201ed4660c3368048c70490ec24a86/nindex: 27/nData: Block27/nNonce: 7759403025/n---------------\n",
      "Block Hash: 0000228d698db0d4bc4abd0558a8f2625a544eb1a884425514e6ccf0c21f40a9/nPrevious Hash: 0000652fbc0e259461de2dc3f519424216e210f685012d6b6a2608aa9a9a1539/nindex: 28/nData: Block28/nNonce: 53133925078/n---------------\n",
      "Block Hash: 0000002c78c93b6dc4475d11a9499245d217dd16d6c9f21f74ae936957ba8761/nPrevious Hash: 0000228d698db0d4bc4abd0558a8f2625a544eb1a884425514e6ccf0c21f40a9/nindex: 29/nData: Block29/nNonce: 36928243495/n---------------\n",
      "Block Hash: 00005b0ba042300bd20afb31c443efdd8698c49d54be838a9ddd0fe1fcf32a4e/nPrevious Hash: 0000002c78c93b6dc4475d11a9499245d217dd16d6c9f21f74ae936957ba8761/nindex: 30/nData: Block30/nNonce: 37675811253/n---------------\n"
     ]
    }
   ],
   "source": [
    "import hashlib\n",
    "\n",
    "class Block():\n",
    "    def __init__(self, data, prev_hash):\n",
    "        self.index = 0\n",
    "        self.nonce = 0\n",
    "        self.prev_hash = prev_hash\n",
    "        self.data = data\n",
    "        \n",
    "    # ブロックチェーンメソッド\n",
    "    def blockhash(self):\n",
    "        blockheader = str(self.index) + str(self.prev_hash) + str(self.data) + str(self.nonce)\n",
    "        block_hash = hashlib.sha256(blockheader.encode()).hexdigest()\n",
    "        return block_hash\n",
    "    \n",
    "    def __str__(self):\n",
    "        return \"Block Hash: \" + self.blockhash() + \"/nPrevious Hash: \" + self.prev_hash + \"/nindex: \" + str(self.index) +  \"/nData: \" + str(self.data) + \"/nNonce: \" + str(self.nonce) + \"/n---------------\"\n",
    "    \n",
    "class Hashchain():\n",
    "    def __init__(self):\n",
    "        self.chain = [\"0000000000000000000000000000000000000000000000000000000000000000\"]\n",
    "        \n",
    "    def add(self, hash):\n",
    "        self.chain.append(hash)\n",
    "        \n",
    "hashchain = Hashchain()\n",
    "# マイニングの難易度\n",
    "target = 0x777777 * 2 ** (8 * (0x1e - 0x03))\n",
    "\n",
    "# マイニングメソッド\n",
    "for i in range(30):\n",
    "    block = Block(\"Block\" + str(i + 1), hashchain.chain[-1])\n",
    "    block.index = block.index + i + 1\n",
    "    for n in range(4294967296):\n",
    "        block.nonce = block.nonce + n\n",
    "        # ハッシュ値とターゲットの比較\n",
    "        if int(block.blockhash(), 16) < target:\n",
    "            print(block)\n",
    "            hashchain.add(block.blockhash())\n",
    "            break"
   ]
  },
  {
   "cell_type": "code",
   "execution_count": null,
   "metadata": {},
   "outputs": [],
   "source": []
  }
 ],
 "metadata": {
  "kernelspec": {
   "display_name": "Python 3",
   "language": "python",
   "name": "python3"
  },
  "language_info": {
   "codemirror_mode": {
    "name": "ipython",
    "version": 3
   },
   "file_extension": ".py",
   "mimetype": "text/x-python",
   "name": "python",
   "nbconvert_exporter": "python",
   "pygments_lexer": "ipython3",
   "version": "3.8.5"
  }
 },
 "nbformat": 4,
 "nbformat_minor": 4
}
